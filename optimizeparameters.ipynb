{
 "cells": [
  {
   "cell_type": "code",
   "execution_count": 1,
   "metadata": {},
   "outputs": [],
   "source": [
    "import numpy as np\n",
    "import pandas as pd\n",
    "from sklearn.preprocessing import LabelEncoder\n",
    "from xgboost import XGBRegressor\n",
    "from sklearn.model_selection import train_test_split\n",
    "from math import sqrt\n",
    "from xgboost import plot_importance\n",
    "from matplotlib import pyplot as plt\n",
    "from sklearn.model_selection import GridSearchCV\n",
    "from sklearn.metrics import mean_squared_error"
   ]
  },
  {
   "cell_type": "code",
   "execution_count": 2,
   "metadata": {},
   "outputs": [],
   "source": [
    "tagsCount = pd.read_csv(\"SMPdata/imageIDandTagsCount.csv\")\n",
    "#tagsCount"
   ]
  },
  {
   "cell_type": "markdown",
   "metadata": {},
   "source": [
    "### test other type tags count"
   ]
  },
  {
   "cell_type": "markdown",
   "metadata": {},
   "source": [
    "for i in range(len(tagsCount)):\n",
    "    tagsCount.loc[i,\"TagsCount\"] = round(sqrt(tagsCount.loc[i,\"TagsCount\"]))\n",
    "    if i%3000==0:\n",
    "        print(i)\n",
    "tagsCount"
   ]
  },
  {
   "cell_type": "code",
   "execution_count": 3,
   "metadata": {},
   "outputs": [],
   "source": [
    "imageInformation = pd.read_csv(\"SMPdata/image_information.txt\",skiprows=[765,768]).astype(\"int\")\n",
    "#print(imageInformation)"
   ]
  },
  {
   "cell_type": "code",
   "execution_count": 4,
   "metadata": {},
   "outputs": [],
   "source": [
    "label = pd.read_csv(\"train_all_json/train_label.txt\")\n",
    "#print(label)"
   ]
  },
  {
   "cell_type": "code",
   "execution_count": 5,
   "metadata": {},
   "outputs": [],
   "source": [
    "trainData = pd.concat( [tagsCount , label], axis=1 )\n",
    "#print(trainData)"
   ]
  },
  {
   "cell_type": "code",
   "execution_count": 6,
   "metadata": {},
   "outputs": [],
   "source": [
    "trainData = pd.merge(imageInformation, trainData, how='left', on='imageID')\n",
    "#print(trainData.shape)"
   ]
  },
  {
   "cell_type": "code",
   "execution_count": 7,
   "metadata": {},
   "outputs": [],
   "source": [
    "#print(trainData.head())\n",
    "#print(tagsCount.head())\n",
    "#print(imageInformation.head())"
   ]
  },
  {
   "cell_type": "code",
   "execution_count": 8,
   "metadata": {},
   "outputs": [],
   "source": [
    "qooSortData = pd.read_csv(\"SMPdata/train.csv\")\n",
    "\n",
    "#print(label.loc[1])\n",
    "#print(qooSortData)\n",
    "#print(label.loc[tagsCount[tagsCount[\"imageID\"]==385070026].index])"
   ]
  },
  {
   "cell_type": "code",
   "execution_count": 9,
   "metadata": {},
   "outputs": [
    {
     "name": "stdout",
     "output_type": "stream",
     "text": [
      "            imageID  Uid_code  Concept_code\n",
      "0         385070026     28628           254\n",
      "1         943750056      2619           200\n",
      "2        3246928439     13086           105\n",
      "3        3432316502     30463           426\n",
      "4        3538960847      1752           602\n",
      "5        3544037429      1752           212\n",
      "6        3544739218      1752           212\n",
      "7        3544861110      1752           212\n",
      "8        3544891702      1752           212\n",
      "9        4298739132     30462           170\n",
      "10       4387678456      8006           230\n",
      "11       4497890817      7600           121\n",
      "12       4539636819     10235           490\n",
      "13       4539636893     10235           490\n",
      "14       4539636935     10235           490\n",
      "15       4539637115     10235           490\n",
      "16       4539637159     10235           490\n",
      "17       4539637185     10235           490\n",
      "18       4539637207     10235           490\n",
      "19       4539637259     10235           490\n",
      "20       4539637389     10235           490\n",
      "21       4539637413     10235           490\n",
      "22       4539637465     10235           490\n",
      "23       4539637541     10235           490\n",
      "24       4539669575     10235           490\n",
      "25       4539669783     10235           490\n",
      "26       4539694933     10235           490\n",
      "27       4539703893     10235           490\n",
      "28       4540271100     10235           490\n",
      "29       4540271286     10235           490\n",
      "...             ...       ...           ...\n",
      "270253  27595036145     31560            79\n",
      "270254  27595052535      1829            79\n",
      "270255  27595329935     32099           107\n",
      "270256  27595405575     30960             2\n",
      "270257  27595456705     31611           574\n",
      "270258  27595544795     31560            79\n",
      "270259  27595555305     10630            12\n",
      "270260  27595592085     33734           452\n",
      "270261  27595612785     31389           614\n",
      "270262  27595633315     31560            79\n",
      "270263  27595636075     19693           442\n",
      "270264  27595664835     31560            79\n",
      "270265  27595688215      1904           653\n",
      "270266  27595784335     31560            79\n",
      "270267  27595892505     16016           107\n",
      "270268  27595905425     33522           117\n",
      "270269  27595934885     31560            79\n",
      "270270  27595957145     31560            79\n",
      "270271  27596003345     22798            19\n",
      "270272  27596570885     23778            61\n",
      "270273  27596838495     31151           614\n",
      "270274  27596890435      1015            62\n",
      "270275  27597161645       858           620\n",
      "270276  27597354975     30562           614\n",
      "270277  27597390005     30431           566\n",
      "270278  27597418605     29063           131\n",
      "270279  27597517425       859           452\n",
      "270280  27597606545     32661           187\n",
      "270281  27597637235     33942           112\n",
      "270282  27597665145     33631           614\n",
      "\n",
      "[270283 rows x 3 columns]\n"
     ]
    },
    {
     "name": "stderr",
     "output_type": "stream",
     "text": [
      "/anaconda3/envs/testtensorflow/lib/python3.6/site-packages/ipykernel_launcher.py:3: SettingWithCopyWarning: \n",
      "A value is trying to be set on a copy of a slice from a DataFrame.\n",
      "Try using .loc[row_indexer,col_indexer] = value instead\n",
      "\n",
      "See the caveats in the documentation: http://pandas.pydata.org/pandas-docs/stable/indexing.html#indexing-view-versus-copy\n",
      "  This is separate from the ipykernel package so we can avoid doing imports until\n",
      "/anaconda3/envs/testtensorflow/lib/python3.6/site-packages/ipykernel_launcher.py:4: SettingWithCopyWarning: \n",
      "A value is trying to be set on a copy of a slice from a DataFrame.\n",
      "Try using .loc[row_indexer,col_indexer] = value instead\n",
      "\n",
      "See the caveats in the documentation: http://pandas.pydata.org/pandas-docs/stable/indexing.html#indexing-view-versus-copy\n",
      "  after removing the cwd from sys.path.\n",
      "/anaconda3/envs/testtensorflow/lib/python3.6/site-packages/pandas/core/frame.py:3940: SettingWithCopyWarning: \n",
      "A value is trying to be set on a copy of a slice from a DataFrame\n",
      "\n",
      "See the caveats in the documentation: http://pandas.pydata.org/pandas-docs/stable/indexing.html#indexing-view-versus-copy\n",
      "  errors=errors)\n"
     ]
    }
   ],
   "source": [
    "trainDataII = qooSortData[[\"image\",\"Uid\",\"Concept\"]]\n",
    "#print(trainDataII)\n",
    "trainDataII[\"Uid_code\"] = LabelEncoder().fit_transform(trainDataII[\"Uid\"])\n",
    "trainDataII[\"Concept_code\"] = LabelEncoder().fit_transform(trainDataII[\"Concept\"])\n",
    "trainDataII.drop(columns = [\"Uid\",\"Concept\"],inplace=True)\n",
    "trainDataII.columns = [\"imageID\",\"Uid_code\",\"Concept_code\"]\n",
    "print(trainDataII)\n",
    "#qooSortData"
   ]
  },
  {
   "cell_type": "code",
   "execution_count": 10,
   "metadata": {},
   "outputs": [],
   "source": [
    "train = pd.merge(trainDataII, trainData, how=\"inner\", on=\"imageID\")\n",
    "#train"
   ]
  },
  {
   "cell_type": "markdown",
   "metadata": {},
   "source": [
    "detectObject = pd.read_csv(\"SMPdata/imageDetectObject.csv\",index_col = \"Unnamed: 0\")\n",
    "train = pd.merge(train, detectObject, how=\"inner\", on=\"imageID\")\n",
    "train"
   ]
  },
  {
   "cell_type": "code",
   "execution_count": 11,
   "metadata": {},
   "outputs": [],
   "source": [
    "a , X_test= train_test_split(train, test_size=0.2)\n",
    "X_train , X_valid = train_test_split(a,test_size=0.1)\n",
    "Y_train = X_train[\"score\"]\n",
    "X_train = X_train.drop([\"score\"],axis = 1)\n",
    "Y_test = X_test[\"score\"]\n",
    "X_test = X_test.drop([\"score\"],axis = 1)\n",
    "Y_valid = X_valid[\"score\"]\n",
    "X_valid = X_valid.drop([\"score\"],axis = 1)"
   ]
  },
  {
   "cell_type": "code",
   "execution_count": 12,
   "metadata": {},
   "outputs": [
    {
     "name": "stderr",
     "output_type": "stream",
     "text": [
      "/anaconda3/envs/testtensorflow/lib/python3.6/site-packages/xgboost/core.py:587: FutureWarning: Series.base is deprecated and will be removed in a future version\n",
      "  if getattr(data, 'base', None) is not None and \\\n",
      "/anaconda3/envs/testtensorflow/lib/python3.6/site-packages/xgboost/core.py:588: FutureWarning: Series.base is deprecated and will be removed in a future version\n",
      "  data.base is not None and isinstance(data, np.ndarray) \\\n"
     ]
    },
    {
     "data": {
      "text/plain": [
       "({'mean_fit_time': array([101.25049458, 100.49673047, 117.86549225, 111.37129402]),\n",
       "  'std_fit_time': array([0.40516261, 0.55326747, 4.79478425, 3.20507041]),\n",
       "  'mean_score_time': array([1.68594818, 1.20531011, 1.36696038, 1.11537957]),\n",
       "  'std_score_time': array([0.16562084, 0.11662349, 0.08213114, 0.21835799]),\n",
       "  'param_max_depth': masked_array(data=[7, 7, 8, 8],\n",
       "               mask=[False, False, False, False],\n",
       "         fill_value='?',\n",
       "              dtype=object),\n",
       "  'param_min_child_weight': masked_array(data=[1, 2, 1, 2],\n",
       "               mask=[False, False, False, False],\n",
       "         fill_value='?',\n",
       "              dtype=object),\n",
       "  'params': [{'max_depth': 7, 'min_child_weight': 1},\n",
       "   {'max_depth': 7, 'min_child_weight': 2},\n",
       "   {'max_depth': 8, 'min_child_weight': 1},\n",
       "   {'max_depth': 8, 'min_child_weight': 2}],\n",
       "  'split0_test_score': array([-0.2317834 , -0.2311273 , -0.21898774, -0.21934173]),\n",
       "  'split1_test_score': array([-0.2318943 , -0.232793  , -0.22019379, -0.22217926]),\n",
       "  'split2_test_score': array([-0.22862162, -0.22901954, -0.2163016 , -0.21554002]),\n",
       "  'split3_test_score': array([-0.22878032, -0.22935046, -0.21515326, -0.21585943]),\n",
       "  'split4_test_score': array([-0.23028212, -0.23015984, -0.21735288, -0.21894639]),\n",
       "  'mean_test_score': array([-0.23027235, -0.23049003, -0.21759786, -0.21837337]),\n",
       "  'std_test_score': array([0.00140465, 0.00136234, 0.00181036, 0.00245351]),\n",
       "  'rank_test_score': array([3, 4, 1, 2], dtype=int32)},\n",
       " {'max_depth': 8, 'min_child_weight': 1},\n",
       " -0.21759785527573072)"
      ]
     },
     "execution_count": 12,
     "metadata": {},
     "output_type": "execute_result"
    }
   ],
   "source": [
    "param_test1 = { 'max_depth':range(7,9,1), 'min_child_weight':range(1,3,1) } \n",
    "#param_test1 = {'n_estimators':[50, 100, 200, 500,1000],'learning_rate':[0.01, 0.05, 0.1, 0.2, 0.3]}\n",
    "\"\"\"gsearch1 = GridSearchCV(estimator = XGBClassifier( learning_rate =0.1, \n",
    "                                                  n_estimators=140, \n",
    "                                                  max_depth=5, \n",
    "                                                  min_child_weight=1, \n",
    "                                                  gamma=0, \n",
    "                                                  subsample=0.8, \n",
    "                                                  colsample_bytree=0.8, \n",
    "                                                  objective= 'binary:logistic', \n",
    "                                                  nthread=4, \n",
    "                                                  scale_pos_weight=1, \n",
    "                                                  seed=27), \n",
    "                        param_grid = param_test1, \n",
    "                        scoring='roc_auc',\n",
    "                        n_jobs=4,iid=False, cv=5)\"\"\"\n",
    "gsearch1 = GridSearchCV(estimator = XGBRegressor(booster='gbtree',\n",
    "                    objective= 'reg:linear',\n",
    "                    eval_metric='rmse',\n",
    "                    gamma = 0.1,\n",
    "                    min_child_weight= 2,\n",
    "                    max_depth= 9,\n",
    "                    subsample= 0.8,\n",
    "                    colsample_bytree= 0.8,\n",
    "                    tree_method= 'exact',\n",
    "                    learning_rate=0.1,\n",
    "                    n_estimators=1000,\n",
    "                    nthread=4,\n",
    "                    scale_pos_weight=1,\n",
    "                    seed=27),\n",
    "                       param_grid = param_test1, scoring='neg_mean_squared_error',n_jobs=4,iid=False, cv=5)\n",
    "gsearch1.fit(X_train,Y_train) \n",
    "gsearch1.cv_results_ , gsearch1.best_params_, gsearch1.best_score_"
   ]
  },
  {
   "cell_type": "code",
   "execution_count": null,
   "metadata": {},
   "outputs": [],
   "source": []
  }
 ],
 "metadata": {
  "kernelspec": {
   "display_name": "Python 3",
   "language": "python",
   "name": "python3"
  },
  "language_info": {
   "codemirror_mode": {
    "name": "ipython",
    "version": 3
   },
   "file_extension": ".py",
   "mimetype": "text/x-python",
   "name": "python",
   "nbconvert_exporter": "python",
   "pygments_lexer": "ipython3",
   "version": "3.6.8"
  }
 },
 "nbformat": 4,
 "nbformat_minor": 2
}
